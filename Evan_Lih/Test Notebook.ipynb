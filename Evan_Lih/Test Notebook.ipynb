{
 "cells": [
  {
   "cell_type": "code",
   "execution_count": 18,
   "metadata": {},
   "outputs": [
    {
     "data": {
      "text/plain": [
       "['Template ID',\n",
       " 'Reported Date',\n",
       " 'Reported Time',\n",
       " 'Occurred Date / Time',\n",
       " 'Call Type',\n",
       " 'Initial Call Type',\n",
       " 'Final Call Type',\n",
       " 'Disposition',\n",
       " 'Use of Force Indicator',\n",
       " 'Subject Veteran Indicator',\n",
       " 'CIT Officer Requested',\n",
       " 'CIT Officer Dispatched',\n",
       " 'CIT Officer Arrived',\n",
       " 'Officer ID',\n",
       " 'Officer Gender',\n",
       " 'Officer Race',\n",
       " 'Officer Year of Birth',\n",
       " 'Officer Years of Experience',\n",
       " 'CIT Certified Indicator',\n",
       " 'Officer Bureau Desc',\n",
       " 'Officer Precinct Desc',\n",
       " 'Officer Squad Desc',\n",
       " 'Precinct',\n",
       " 'Sector',\n",
       " 'Beat']"
      ]
     },
     "execution_count": 18,
     "metadata": {},
     "output_type": "execute_result"
    }
   ],
   "source": [
    "#This is a test notebook. \n",
    "import csv\n",
    "import pandas as pd\n",
    "crisisData = pd.read_csv('/Users/evanlih/Github/PUBPOL599-Seattle-Crisis-Data/Dataset/Crisis_Data.csv')\n",
    "\n",
    "list(crisisData)\n",
    "\n",
    "crisisData\n",
    "\n"
   ]
  }
 ],
 "metadata": {
  "kernelspec": {
   "display_name": "Python 3",
   "language": "python",
   "name": "python3"
  },
  "language_info": {
   "codemirror_mode": {
    "name": "ipython",
    "version": 3
   },
   "file_extension": ".py",
   "mimetype": "text/x-python",
   "name": "python",
   "nbconvert_exporter": "python",
   "pygments_lexer": "ipython3",
   "version": "3.7.1"
  }
 },
 "nbformat": 4,
 "nbformat_minor": 2
}
